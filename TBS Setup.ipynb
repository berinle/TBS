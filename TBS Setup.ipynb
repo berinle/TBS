{
 "cells": [
  {
   "cell_type": "markdown",
   "metadata": {},
   "source": [
    "## Pre-reqs\n",
    "\n",
    "* Download [TBS](https://network.pivotal.io/products/build-service/)\n",
    "* Install [duffle](https://github.com/cnabio/duffle)\n",
    "* Have a k8s cluster with a default storage class set\n",
    "* Create a credentials file. Download [sample](credentials.yml.sample)\n",
    "* Create an install script. Download [sample](setup.sh.sample). Ensure you change the top level variables to suit your needs\n",
    "* Ensure the setup script is executable\n",
    "* Run the install\n",
    "\n",
    "## Helpful resources\n",
    "* [TBS doc](https://docs.pivotal.io/build-service/0-2-0/index.html)\n",
    "* [PB Demo](https://github.com/matthewmcnew/pbdemo)"
   ]
  },
  {
   "cell_type": "code",
   "execution_count": null,
   "metadata": {},
   "outputs": [],
   "source": [
    "kubectl apply -f az-storage.yml"
   ]
  },
  {
   "cell_type": "code",
   "execution_count": null,
   "metadata": {},
   "outputs": [],
   "source": [
    "kubectl get sc"
   ]
  },
  {
   "cell_type": "code",
   "execution_count": null,
   "metadata": {},
   "outputs": [],
   "source": [
    "./install.sh"
   ]
  },
  {
   "cell_type": "code",
   "execution_count": null,
   "metadata": {},
   "outputs": [],
   "source": [
    "duffle list"
   ]
  },
  {
   "cell_type": "markdown",
   "metadata": {},
   "source": [
    "## Test out install\n",
    "\n",
    "### Pre-reqs\n",
    "* [kp cli](https://network.pivotal.io/products/build-service/)\n",
    "* Create [secret](https://docs.pivotal.io/build-service/0-2-0/managing-secrets.html) that can access your private repo to be used for the builds\n",
    "* Clone [demo](https://github.com/berinle/tbs-demo) project"
   ]
  },
  {
   "cell_type": "code",
   "execution_count": null,
   "metadata": {},
   "outputs": [],
   "source": [
    "export REGISTRY_PASSWORD=\"SNIP\""
   ]
  },
  {
   "cell_type": "code",
   "execution_count": null,
   "metadata": {},
   "outputs": [],
   "source": [
    "kp ccb list"
   ]
  },
  {
   "cell_type": "code",
   "execution_count": null,
   "metadata": {},
   "outputs": [],
   "source": [
    "kubectl create ns tbs-demo"
   ]
  },
  {
   "cell_type": "code",
   "execution_count": null,
   "metadata": {},
   "outputs": [],
   "source": [
    "kp secret create acr-tanzu-reg-creds --registry tanzu.azurecr.io --registry-user tanzu -n tbs-demo"
   ]
  },
  {
   "cell_type": "markdown",
   "metadata": {},
   "source": [
    "### Run through Spring Boot sample"
   ]
  },
  {
   "cell_type": "code",
   "execution_count": null,
   "metadata": {},
   "outputs": [],
   "source": [
    "kp image create tbs-demo-app \\\n",
    "    tanzu.azurecr.io/apps/tbs-demo \\\n",
    "    -n tbs-demo \\\n",
    "    --git https://github.com/berinle/tbs-demo"
   ]
  },
  {
   "cell_type": "code",
   "execution_count": null,
   "metadata": {},
   "outputs": [],
   "source": [
    "kp build list tbs-demo-app -n tbs-demo"
   ]
  },
  {
   "cell_type": "code",
   "execution_count": null,
   "metadata": {},
   "outputs": [],
   "source": [
    "kp build logs tbs-demo-app -b 1 -n tbs-demo"
   ]
  },
  {
   "cell_type": "code",
   "execution_count": null,
   "metadata": {},
   "outputs": [],
   "source": [
    "kp image trigger tbs-demo-app -n tbs-demo"
   ]
  },
  {
   "cell_type": "code",
   "execution_count": null,
   "metadata": {},
   "outputs": [],
   "source": [
    "kp image delete tbs-demo-app -n tbs-demo"
   ]
  },
  {
   "cell_type": "code",
   "execution_count": null,
   "metadata": {},
   "outputs": [],
   "source": [
    "pack inspect-image tanzu.azurecr.io/apps/tbs-demo:b1.20200731.161325"
   ]
  },
  {
   "cell_type": "markdown",
   "metadata": {},
   "source": [
    "### Run through nodejs sample"
   ]
  },
  {
   "cell_type": "code",
   "execution_count": null,
   "metadata": {},
   "outputs": [],
   "source": [
    "kp image create cf-sample-app-nodejs \\\n",
    "    tanzu.azurecr.io/apps/cf-sample-app-nodejs \\\n",
    "    -n tbs-demo \\\n",
    "    --git https://github.com/berinle/cf-sample-app-nodejs"
   ]
  },
  {
   "cell_type": "code",
   "execution_count": null,
   "metadata": {},
   "outputs": [],
   "source": [
    "kp build list cf-sample-app-nodejs -n tbs-demo"
   ]
  },
  {
   "cell_type": "code",
   "execution_count": null,
   "metadata": {},
   "outputs": [],
   "source": [
    "kp image status tbs-demo-app -n tbs-demo"
   ]
  },
  {
   "cell_type": "code",
   "execution_count": null,
   "metadata": {},
   "outputs": [],
   "source": [
    "kp build logs cf-sample-app-nodejs -b 1 -n tbs-demo"
   ]
  },
  {
   "cell_type": "code",
   "execution_count": null,
   "metadata": {},
   "outputs": [],
   "source": [
    "kp image trigger cf-sample-app-nodejs -n tbs-demo"
   ]
  },
  {
   "cell_type": "code",
   "execution_count": null,
   "metadata": {},
   "outputs": [],
   "source": [
    "kp image list -n tbs-demo"
   ]
  },
  {
   "cell_type": "code",
   "execution_count": null,
   "metadata": {},
   "outputs": [],
   "source": [
    "kp image delete cf-sample-app-nodejs -n tbs-demo"
   ]
  },
  {
   "cell_type": "markdown",
   "metadata": {},
   "source": [
    "## TBS Demo (with UI visuals)\n",
    "\n",
    "### Preping PBDemo visual aid \n",
    "\n",
    "Open a terminal window and run ...\n",
    "* `pbdemo serve`"
   ]
  },
  {
   "cell_type": "code",
   "execution_count": null,
   "metadata": {},
   "outputs": [],
   "source": [
    "export REGISTRY_LOC=\"SNIP\""
   ]
  },
  {
   "cell_type": "code",
   "execution_count": null,
   "metadata": {},
   "outputs": [],
   "source": [
    "pbdemo populate --registry $REGISTRY_LOC --count 20"
   ]
  },
  {
   "cell_type": "markdown",
   "metadata": {},
   "source": [
    "## Demo stack vulnerability update"
   ]
  },
  {
   "cell_type": "code",
   "execution_count": null,
   "metadata": {},
   "outputs": [],
   "source": [
    "pbdemo update-stack"
   ]
  },
  {
   "cell_type": "markdown",
   "metadata": {},
   "source": [
    "## Demo buildpack vulnerability update"
   ]
  },
  {
   "cell_type": "code",
   "execution_count": null,
   "metadata": {},
   "outputs": [],
   "source": [
    "pbdemo update-buildpack --buildpack paketo-buildpacks/nodejs"
   ]
  },
  {
   "cell_type": "markdown",
   "metadata": {},
   "source": [
    "## Clean up `pbdemo` images"
   ]
  },
  {
   "cell_type": "code",
   "execution_count": null,
   "metadata": {},
   "outputs": [],
   "source": [
    "pbdemo cleanup"
   ]
  },
  {
   "cell_type": "markdown",
   "metadata": {},
   "source": [
    "## Uninstall TBS"
   ]
  },
  {
   "cell_type": "code",
   "execution_count": null,
   "metadata": {},
   "outputs": [],
   "source": [
    "./uninstall.sh"
   ]
  }
 ],
 "metadata": {
  "kernelspec": {
   "display_name": "Z shell",
   "language": "zsh",
   "name": "zsh"
  },
  "language_info": {
   "codemirror_mode": "shell",
   "file_extension": ".zsh",
   "mimetype": "text/x-zsh",
   "name": "zsh",
   "pygments_lexer": "shell",
   "version": "5.7.1"
  }
 },
 "nbformat": 4,
 "nbformat_minor": 4
}
